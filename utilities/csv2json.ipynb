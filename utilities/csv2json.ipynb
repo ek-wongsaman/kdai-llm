{
 "cells": [
  {
   "cell_type": "code",
   "execution_count": null,
   "metadata": {},
   "outputs": [],
   "source": [
    "import datetime"
   ]
  },
  {
   "cell_type": "code",
   "execution_count": 10,
   "metadata": {},
   "outputs": [],
   "source": [
    "csv_file_path = '/Users/ekkalukw/data-src/kdai-llm-final-20241007/case csv/supreme judgment.csv'  # Update this path\n",
    "output_folder = '/Users/ekkalukw/data-src/kdai-llm-final-20241007/case csv/output_json_files'\n",
    "\n",
    "print(datetime.datetime.now())"
   ]
  },
  {
   "cell_type": "code",
   "execution_count": 12,
   "metadata": {},
   "outputs": [
    {
     "name": "stdout",
     "output_type": "stream",
     "text": [
      "Output folder \"/Users/ekkalukw/data-src/kdai-llm-final-20241007/case csv/output_json_files\" created.\n",
      "CSV file \"/Users/ekkalukw/data-src/kdai-llm-final-20241007/case csv/supreme judgment.csv\" opened successfully.\n",
      "CSV file has valid headers: ['case_id', 'basis_law', 'red_case_no', 'category', 'summary', 'judgment_nopage', 'fulltext_startpage', 'judge', 'reference_doc', 'year', 'timestamp', 'data_source', 'iscivil', 'iscriminal', 'civil_arcsec_no', 'criminal_arcsec_no', 'is_civilproc', 'iscriminal_proc', 'civil_proc_arcsec_no', 'criminal_proc_arcsec_no', 'act', 'judgment_fulltext_p1', 'judgment_fulltext_p2', 'judgment_fulltext_p3', 'judgment_fulltext_p4', 'judgment_fulltext_p5', 'judgment_fulltext_p6', 'judgment_fulltext_p7', 'judgment_fulltext_p8', 'judgment_fulltext_p9', 'judgment_fulltext_p10', 'judgment_fulltext_p11', 'judgment_fulltext_p12', 'remark']\n",
      "Processing row with case_id: 5055_2559\n",
      "JSON file \"/Users/ekkalukw/data-src/kdai-llm-final-20241007/case csv/output_json_files/5055_2559.json\" created.\n",
      "Processing row with case_id: 5178_2563\n",
      "JSON file \"/Users/ekkalukw/data-src/kdai-llm-final-20241007/case csv/output_json_files/5178_2563.json\" created.\n",
      "Processing row with case_id: 5211_2559\n",
      "JSON file \"/Users/ekkalukw/data-src/kdai-llm-final-20241007/case csv/output_json_files/5211_2559.json\" created.\n",
      "Processing row with case_id: 5400_2560\n",
      "JSON file \"/Users/ekkalukw/data-src/kdai-llm-final-20241007/case csv/output_json_files/5400_2560.json\" created.\n",
      "Processing row with case_id: 6101_2564\n",
      "JSON file \"/Users/ekkalukw/data-src/kdai-llm-final-20241007/case csv/output_json_files/6101_2564.json\" created.\n",
      "Processing row with case_id: 6450_2558\n",
      "JSON file \"/Users/ekkalukw/data-src/kdai-llm-final-20241007/case csv/output_json_files/6450_2558.json\" created.\n",
      "Processing row with case_id: 7426 -7427_2557\n",
      "JSON file \"/Users/ekkalukw/data-src/kdai-llm-final-20241007/case csv/output_json_files/7426 -7427_2557.json\" created.\n",
      "Processing row with case_id: 7581_2561\n",
      "JSON file \"/Users/ekkalukw/data-src/kdai-llm-final-20241007/case csv/output_json_files/7581_2561.json\" created.\n",
      "Processing row with case_id: 8155_2555\n",
      "JSON file \"/Users/ekkalukw/data-src/kdai-llm-final-20241007/case csv/output_json_files/8155_2555.json\" created.\n",
      "JSON files have been saved in the \"/Users/ekkalukw/data-src/kdai-llm-final-20241007/case csv/output_json_files\" folder.\n"
     ]
    }
   ],
   "source": [
    "import csv\n",
    "import json\n",
    "import os\n",
    "\n",
    "# Define the paths\n",
    "#csv_file_path = 'path/to/your/csvfile.csv'  # Update this path\n",
    "#output_folder = 'output_json_files'\n",
    "\n",
    "# Create output folder if it doesn't exist\n",
    "if not os.path.exists(output_folder):\n",
    "    os.makedirs(output_folder)\n",
    "    print(f'Output folder \"{output_folder}\" created.')\n",
    "else:\n",
    "    print(f'Output folder \"{output_folder}\" already exists.')\n",
    "\n",
    "# Open and read the CSV file\n",
    "try:\n",
    "    with open(csv_file_path, mode='r', encoding='utf-8-sig') as csv_file:\n",
    "        print(f'CSV file \"{csv_file_path}\" opened successfully.')\n",
    "        csv_reader = csv.DictReader(csv_file)\n",
    "        \n",
    "        # Check if CSV file is not empty\n",
    "        if csv_reader.fieldnames:\n",
    "            # Remove BOM if present in fieldnames\n",
    "            csv_reader.fieldnames = [fieldname.strip() for fieldname in csv_reader.fieldnames]\n",
    "            print('CSV file has valid headers:', csv_reader.fieldnames)\n",
    "            # Iterate over each row in CSV\n",
    "            for row in csv_reader:\n",
    "                case_id = row.get('case_id') or row.get('\\ufeffcase_id')\n",
    "                if case_id:\n",
    "                    # Replace prohibited characters in the case_id to make it a valid filename\n",
    "                    sanitized_case_id = case_id.replace('/', '_')\n",
    "                    print(f'Processing row with case_id: {sanitized_case_id}')\n",
    "                    # Create a JSON file for each record using sanitized_case_id as filename\n",
    "                    json_file_path = os.path.join(output_folder, f'{sanitized_case_id}.json')\n",
    "                    \n",
    "                    try:\n",
    "                        # Write the data into the JSON file\n",
    "                        with open(json_file_path, mode='w', encoding='utf-8') as json_file:\n",
    "                            json.dump(row, json_file, ensure_ascii=False, indent=4)\n",
    "                            print(f'JSON file \"{json_file_path}\" created.')\n",
    "                    except Exception as e:\n",
    "                        print(f'Error writing JSON file \"{json_file_path}\": {e}')\n",
    "                else:\n",
    "                    print('Warning: Missing case_id in row:', row)\n",
    "        else:\n",
    "            print('The CSV file is empty or incorrectly formatted.')\n",
    "except FileNotFoundError:\n",
    "    print(f'Error: CSV file \"{csv_file_path}\" not found.')\n",
    "except Exception as e:\n",
    "    print(f'An unexpected error occurred while opening the CSV file: {e}')\n",
    "\n",
    "print(f'JSON files have been saved in the \"{output_folder}\" folder.')\n",
    "\n",
    "print(datetime.datetime.now())"
   ]
  },
  {
   "cell_type": "code",
   "execution_count": null,
   "metadata": {},
   "outputs": [],
   "source": []
  }
 ],
 "metadata": {
  "kernelspec": {
   "display_name": "kdai-llm-finalfix",
   "language": "python",
   "name": "python3"
  },
  "language_info": {
   "codemirror_mode": {
    "name": "ipython",
    "version": 3
   },
   "file_extension": ".py",
   "mimetype": "text/x-python",
   "name": "python",
   "nbconvert_exporter": "python",
   "pygments_lexer": "ipython3",
   "version": "3.12.7"
  }
 },
 "nbformat": 4,
 "nbformat_minor": 2
}
