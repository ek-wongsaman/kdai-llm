{
 "cells": [
  {
   "cell_type": "code",
   "execution_count": null,
   "metadata": {},
   "outputs": [],
   "source": [
    "import datetime"
   ]
  },
  {
   "cell_type": "code",
   "execution_count": 16,
   "metadata": {},
   "outputs": [],
   "source": [
    "#sample JSON without root node\n",
    "#inputfile = '/Users/ekkalukw/data-src/kdai-llm-final-20241007/case json2parquet/qa pair/qa_5178_2563_th.json'\n",
    "#outputfile = '/Users/ekkalukw/data-src/kdai-llm-final-20241007/case json2parquet/qa pair/qa_5178_2563_th.parquet'\n",
    "\n",
    "#sample JSON with root node\n",
    "#inputfile = '/Users/ekkalukw/data-src/kdai-llm-final-20241007/case json2parquet/qa pair/qa_5211_2559_th.json'\n",
    "#outputfile = '/Users/ekkalukw/data-src/kdai-llm-final-20241007/case json2parquet/qa pair/qa_5211_2559_th.parquet'\n",
    "\n",
    "#remaining\n",
    "#inputfile = '/Users/ekkalukw/data-src/kdai-llm-final-20241007/case json2parquet/qa pair/qa_5400_2560_th.json'\n",
    "#outputfile = '/Users/ekkalukw/data-src/kdai-llm-final-20241007/case json2parquet/qa pair/qa_5400_2560_th.parquet'\n",
    "\n",
    "#inputfile = '/Users/ekkalukw/data-src/kdai-llm-final-20241007/case json2parquet/qa pair/qa_6101_2564_th.json'\n",
    "#outputfile = '/Users/ekkalukw/data-src/kdai-llm-final-20241007/case json2parquet/qa pair/qa_6101_2564_th.parquet'\n",
    "\n",
    "#inputfile = '/Users/ekkalukw/data-src/kdai-llm-final-20241007/case json2parquet/qa pair/qa_6450_2558_thai.json'\n",
    "#outputfile = '/Users/ekkalukw/data-src/kdai-llm-final-20241007/case json2parquet/qa pair/qa_6450_2558_thai.parquet'\n",
    "\n",
    "#inputfile = '/Users/ekkalukw/data-src/kdai-llm-final-20241007/case json2parquet/qa pair/qa_7426 -7427_2557_th.json'\n",
    "#outputfile = '/Users/ekkalukw/data-src/kdai-llm-final-20241007/case json2parquet/qa pair/qa_7426 -7427_2557_th.parquet'\n",
    "\n",
    "#inputfile = '/Users/ekkalukw/data-src/kdai-llm-final-20241007/case json2parquet/qa pair/qa_7581_2561_thai.json'\n",
    "#outputfile = '/Users/ekkalukw/data-src/kdai-llm-final-20241007/case json2parquet/qa pair/qa_7581_2561_thai.parquet'\n",
    "\n",
    "inputfile = '/Users/ekkalukw/data-src/kdai-llm-final-20241007/case json2parquet/qa pair/qa_8155_2555_thai.json'\n",
    "outputfile = '/Users/ekkalukw/data-src/kdai-llm-final-20241007/case json2parquet/qa pair/qa_8155_2555_thai.parquet'\n",
    "\n",
    "print(datetime.datetime.now())\n"
   ]
  },
  {
   "cell_type": "code",
   "execution_count": 17,
   "metadata": {},
   "outputs": [
    {
     "name": "stdout",
     "output_type": "stream",
     "text": [
      "Parquet file has been created successfully.\n"
     ]
    }
   ],
   "source": [
    "import pandas as pd\n",
    "import json\n",
    "\n",
    "# Load JSON data from file\n",
    "with open(inputfile, 'r') as f:\n",
    "    data = json.load(f)\n",
    "\n",
    "# Extract question and answer pairs\n",
    "def extract_pairs(data):\n",
    "    pairs = []\n",
    "    def recurse(d):\n",
    "        if isinstance(d, dict):\n",
    "            if 'question' in d and 'answer' in d:\n",
    "                pairs.append({'text': f\"<s> [INST] {d['question']} [/INST] {d['answer']} </s>\"})\n",
    "            for key in d:\n",
    "                recurse(d[key])\n",
    "        elif isinstance(d, list):\n",
    "            for item in d:\n",
    "                recurse(item)\n",
    "    recurse(data)\n",
    "    return pairs\n",
    "\n",
    "pairs = extract_pairs(data)\n",
    "\n",
    "# Create a DataFrame from the formatted question-answer pairs\n",
    "df = pd.DataFrame(pairs)\n",
    "\n",
    "# Save the DataFrame as a Parquet file\n",
    "df.to_parquet(outputfile, index=False)\n",
    "\n",
    "print(\"Parquet file has been created successfully.\")\n",
    "\n",
    "print(datetime.datetime.now())"
   ]
  }
 ],
 "metadata": {
  "kernelspec": {
   "display_name": "kdai-llm-finalfix",
   "language": "python",
   "name": "python3"
  },
  "language_info": {
   "codemirror_mode": {
    "name": "ipython",
    "version": 3
   },
   "file_extension": ".py",
   "mimetype": "text/x-python",
   "name": "python",
   "nbconvert_exporter": "python",
   "pygments_lexer": "ipython3",
   "version": "3.12.7"
  }
 },
 "nbformat": 4,
 "nbformat_minor": 2
}
