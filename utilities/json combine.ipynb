{
 "cells": [
  {
   "cell_type": "code",
   "execution_count": null,
   "metadata": {},
   "outputs": [],
   "source": [
    "import datetime"
   ]
  },
  {
   "cell_type": "code",
   "execution_count": 17,
   "metadata": {},
   "outputs": [],
   "source": [
    "input_folder = '/Users/ekkalukw/data-src/kdai-llm-final-20241007/case csv/output_json_files'  # Update this path\n",
    "output_folder = '/Users/ekkalukw/data-src/kdai-llm-final-20241007/case csv/combined_json_files'\n",
    "\n",
    "print(datetime.datetime.now())"
   ]
  },
  {
   "cell_type": "code",
   "execution_count": 18,
   "metadata": {},
   "outputs": [
    {
     "name": "stdout",
     "output_type": "stream",
     "text": [
      "Processing file: /Users/ekkalukw/data-src/kdai-llm-final-20241007/case csv/output_json_files/7426 -7427_2557.json\n",
      "Processing file: /Users/ekkalukw/data-src/kdai-llm-final-20241007/case csv/output_json_files/5055_2559.json\n",
      "Processing file: /Users/ekkalukw/data-src/kdai-llm-final-20241007/case csv/output_json_files/6450_2558.json\n",
      "Processing file: /Users/ekkalukw/data-src/kdai-llm-final-20241007/case csv/output_json_files/6101_2564.json\n",
      "Processing file: /Users/ekkalukw/data-src/kdai-llm-final-20241007/case csv/output_json_files/7581_2561.json\n",
      "Processing file: /Users/ekkalukw/data-src/kdai-llm-final-20241007/case csv/output_json_files/5400_2560.json\n",
      "Processing file: /Users/ekkalukw/data-src/kdai-llm-final-20241007/case csv/output_json_files/8155_2555.json\n",
      "Processing file: /Users/ekkalukw/data-src/kdai-llm-final-20241007/case csv/output_json_files/5211_2559.json\n",
      "Processing file: /Users/ekkalukw/data-src/kdai-llm-final-20241007/case csv/output_json_files/5178_2563.json\n"
     ]
    }
   ],
   "source": [
    "import json\n",
    "import os\n",
    "\n",
    "def combine_judgment_fields(input_file, output_file):\n",
    "    try:\n",
    "        # Read the JSON file\n",
    "        with open(input_file, 'r', encoding='utf-8') as f:\n",
    "            data = json.load(f)\n",
    "    except Exception as e:\n",
    "        print(f\"Error reading file {input_file}: {e}\")\n",
    "        return\n",
    "\n",
    "    # Ensure data is a list of dictionaries\n",
    "    if isinstance(data, dict):\n",
    "        # If the data is a dict, wrap it in a list\n",
    "        data = [data]\n",
    "    elif not isinstance(data, list):\n",
    "        print(f\"Error: Expected a list of records in file {input_file}, but got {type(data).__name__}\")\n",
    "        return\n",
    "\n",
    "    # Create a new list to store the modified data\n",
    "    modified_data = []\n",
    "\n",
    "    for record in data:\n",
    "        if not isinstance(record, dict):\n",
    "            print(f\"Error: Expected a dictionary for each record, but got {type(record).__name__}\")\n",
    "            continue\n",
    "\n",
    "        try:\n",
    "            # Create the judgment_fulltext by concatenating judgment_fulltext_p1, judgment_fulltext_p2, etc.\n",
    "            judgment_fulltext = \"\"\n",
    "            nopages = int(record.get(\"judgment_nopage\", 0))\n",
    "            for i in range(1, nopages + 1):\n",
    "                key = f\"judgment_fulltext_p{i}\"\n",
    "                if key in record:\n",
    "                    judgment_fulltext += record[key]\n",
    "                else:\n",
    "                    print(f\"Warning: Key '{key}' not found in record from file {input_file}\")\n",
    "\n",
    "            # Create a new dictionary with the required fields\n",
    "            new_record = {\n",
    "                \"case_id\": record.get(\"case_id\"),\n",
    "                \"basis_law\": record.get(\"basis_law\"),\n",
    "                \"red_case_no\": record.get(\"red_case_no\"),\n",
    "                \"category\": record.get(\"category\"),\n",
    "                \"summary\": record.get(\"summary\"),\n",
    "                \"judgment_fulltext\": judgment_fulltext,\n",
    "            }\n",
    "\n",
    "            # Add the new record to the modified data list\n",
    "            modified_data.append(new_record)\n",
    "        except Exception as e:\n",
    "            print(f\"Error processing record in file {input_file}: {e}\")\n",
    "\n",
    "    # Write the modified data to the output JSON file\n",
    "    try:\n",
    "        with open(output_file, 'w', encoding='utf-8') as f:\n",
    "            json.dump(modified_data, f, indent=4, ensure_ascii=False)\n",
    "    except Exception as e:\n",
    "        print(f\"Error writing to file {output_file}: {e}\")\n",
    "\n",
    "def process_folder(input_folder, output_folder):\n",
    "    if not os.path.exists(output_folder):\n",
    "        os.makedirs(output_folder)\n",
    "\n",
    "    if not os.path.exists(input_folder):\n",
    "        print(f\"Error: Input folder '{input_folder}' does not exist.\")\n",
    "        return\n",
    "\n",
    "    for filename in os.listdir(input_folder):\n",
    "        if filename.endswith(\".json\"):\n",
    "            input_file = os.path.join(input_folder, filename)\n",
    "            output_file = os.path.join(output_folder, filename)\n",
    "            print(f\"Processing file: {input_file}\")\n",
    "            combine_judgment_fields(input_file, output_file)\n",
    "        else:\n",
    "            print(f\"Skipping non-JSON file: {filename}\")\n",
    "\n",
    "# Usage example\n",
    "#input_folder = \"input_folder\"\n",
    "#output_folder = \"output_folder\"\n",
    "process_folder(input_folder, output_folder)\n",
    "\n",
    "print(datetime.datetime.now())"
   ]
  }
 ],
 "metadata": {
  "kernelspec": {
   "display_name": "kdai-llm-finalfix",
   "language": "python",
   "name": "python3"
  },
  "language_info": {
   "codemirror_mode": {
    "name": "ipython",
    "version": 3
   },
   "file_extension": ".py",
   "mimetype": "text/x-python",
   "name": "python",
   "nbconvert_exporter": "python",
   "pygments_lexer": "ipython3",
   "version": "3.12.7"
  }
 },
 "nbformat": 4,
 "nbformat_minor": 2
}
