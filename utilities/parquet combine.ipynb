{
 "cells": [
  {
   "cell_type": "code",
   "execution_count": 5,
   "metadata": {},
   "outputs": [],
   "source": [
    "\n",
    "#%pip install pandas pyarrow\n",
    "#%pip install pyarrow\n",
    "import datetime"
   ]
  },
  {
   "cell_type": "code",
   "execution_count": 6,
   "metadata": {},
   "outputs": [
    {
     "name": "stdout",
     "output_type": "stream",
     "text": [
      "2024-10-15 18:59:48.565438\n"
     ]
    }
   ],
   "source": [
    "\n",
    "file1 = '/Users/ekkalukw/data-src/kdai-llm-final-20241007/case json2parquet/qa pair/qa_5178_2563_th.parquet'\n",
    "file2 = '/Users/ekkalukw/data-src/kdai-llm-final-20241007/case json2parquet/qa pair/qa_5211_2559_th.parquet'\n",
    "file3 = '/Users/ekkalukw/data-src/kdai-llm-final-20241007/case json2parquet/qa pair/qa_5400_2560_th.parquet'\n",
    "file4 = '/Users/ekkalukw/data-src/kdai-llm-final-20241007/case json2parquet/qa pair/qa_6101_2564_th.parquet'\n",
    "file5 = '/Users/ekkalukw/data-src/kdai-llm-final-20241007/case json2parquet/qa pair/qa_6450_2558_thai.parquet'\n",
    "file6 = '/Users/ekkalukw/data-src/kdai-llm-final-20241007/case json2parquet/qa pair/qa_7426 -7427_2557_th.parquet'\n",
    "file7 = '/Users/ekkalukw/data-src/kdai-llm-final-20241007/case json2parquet/qa pair/qa_7581_2561_thai.parquet'\n",
    "file8 = '/Users/ekkalukw/data-src/kdai-llm-final-20241007/case json2parquet/qa pair/qa_8155_2555_thai.parquet'\n",
    "\n",
    "combined_file = '/Users/ekkalukw/data-src/kdai-llm-final-20241007/final dataset/combined_legal_cases.parquet'\n",
    "\n",
    "print(datetime.datetime.now())"
   ]
  },
  {
   "cell_type": "code",
   "execution_count": 7,
   "metadata": {},
   "outputs": [
    {
     "name": "stdout",
     "output_type": "stream",
     "text": [
      "2024-10-15 18:59:53.316893\n"
     ]
    }
   ],
   "source": [
    "import pandas as pd\n",
    "import os\n",
    "\n",
    "# List of your parquet files, assuming they're in the same directory\n",
    "parquet_files = [file1, file2, file3, file4, file5, file6, file7, file8]  # Add your file paths\n",
    "\n",
    "# Initialize an empty list to hold dataframes\n",
    "dataframes = []\n",
    "\n",
    "# Loop through each parquet file and append its dataframe to the list\n",
    "for file in parquet_files:\n",
    "    df = pd.read_parquet(file)\n",
    "    dataframes.append(df)\n",
    "\n",
    "# Concatenate all the dataframes into one\n",
    "combined_df = pd.concat(dataframes, ignore_index=True)\n",
    "\n",
    "# Save the combined dataframe to a new parquet file\n",
    "combined_df.to_parquet(combined_file)\n",
    "\n",
    "print(datetime.datetime.now())\n"
   ]
  }
 ],
 "metadata": {
  "kernelspec": {
   "display_name": "kdai-llm-finalfix",
   "language": "python",
   "name": "python3"
  },
  "language_info": {
   "codemirror_mode": {
    "name": "ipython",
    "version": 3
   },
   "file_extension": ".py",
   "mimetype": "text/x-python",
   "name": "python",
   "nbconvert_exporter": "python",
   "pygments_lexer": "ipython3",
   "version": "3.12.7"
  }
 },
 "nbformat": 4,
 "nbformat_minor": 2
}
