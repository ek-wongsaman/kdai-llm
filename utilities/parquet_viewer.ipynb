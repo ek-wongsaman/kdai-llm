{
 "cells": [
  {
   "cell_type": "code",
   "execution_count": 7,
   "metadata": {},
   "outputs": [],
   "source": [
    "import datetime"
   ]
  },
  {
   "cell_type": "code",
   "execution_count": 3,
   "metadata": {},
   "outputs": [],
   "source": [
    "#sample without root node in original json\n",
    "file_path = '/Users/ekkalukw/data-src/kdai-llm-final-20241007/case json2parquet/qa pair/qa_5178_2563_th.parquet'\n",
    "\n",
    "#sample with root node in original json\n",
    "file_path2 = '/Users/ekkalukw/data-src/kdai-llm-final-20241007/case json2parquet/qa pair/qa_5211_2559_th.parquet'\n",
    "\n",
    "print(datetime.datetime.now())\n"
   ]
  },
  {
   "cell_type": "code",
   "execution_count": 2,
   "metadata": {},
   "outputs": [
    {
     "name": "stdout",
     "output_type": "stream",
     "text": [
      "Question: ปัญหาข้อกฎหมายหลักที่ถูกอภิปรายในคำพิพากษาของศาลชั้นต้นคืออะไร?\n",
      "Answer: ศาลชั้นต้นพิพากษาลงโทษจำเลยฐานกระทำโดยประมาทเป็นเหตุให้ผู้อื่นถึงแก่ความตายตาม ป.อ. มาตรา 291 ลงโทษจำคุก 4 ปี และให้จำเลยชดใช้ค่าสินไหมทดแทนแก่โจทก์ร่วม\n",
      "\n",
      "Question: จำเลยอุทธรณ์ต่อศาลอุทธรณ์ด้วยเหตุผลใด?\n",
      "Answer: จำเลยโต้แย้งว่าอุบัติเหตุเกิดจากความประมาทของผู้ตายและผู้บาดเจ็บที่ขับขี่รถจักรยานยนต์โดยไม่เว้นระยะห่างที่เพียงพอ\n",
      "\n",
      "Question: ทำไมคำขอฎีกาของจำเลยถูกปฏิเสธโดยศาลฎีกา?\n",
      "Answer: ศาลฎีกาปฏิเสธคำขอฎีกาเนื่องจากจำเลยไม่ได้รับอนุญาตให้ฎีกาในปัญหาข้อเท็จจริงตาม ป.วิ.อ. มาตรา 218\n",
      "\n",
      "Question: ศาลได้นำมาตรา 291 ของประมวลกฎหมายอาญามาปรับใช้กับข้อเท็จจริงในคดีนี้อย่างไร?\n",
      "Answer: ศาลได้นำมาตรา 291 ของประมวลกฎหมายอาญามาปรับใช้เพื่อพิพากษาลงโทษจำเลยฐานกระทำโดยประมาทเป็นเหตุให้ผู้อื่นถึงแก่ความตาย ลงโทษจำคุก 4 ปี\n",
      "\n",
      "Question: เหตุผลที่ศาลตัดสินให้รอลงอาญาจำคุกคืออะไร?\n",
      "Answer: ศาลตัดสินให้รอลงอาญาเนื่องจากจำเลยได้แสดงความสำนึกผิด ชดใช้ค่าสินไหมทดแทนแก่ผู้เสียหาย และเหตุการณ์เกิดจากความประมาทไม่ใช่เจตนา ศาลเห็นว่าการบริการสังคมและการคุมประพฤติจะเป็นประโยชน์มากกว่า\n",
      "\n",
      "Question: ศาลได้พิจารณาความรับผิดชอบของจำเลยร่วมกับความประมาทของผู้เสียหายอย่างไร?\n",
      "Answer: ศาลได้พิจารณาว่าผู้ตายและผู้บาดเจ็บมีส่วนร่วมในการประมาทในการขับขี่ แต่ความประมาทของจำเลยเป็นเหตุหลักของอุบัติเหตุ\n",
      "\n",
      "Question: ข้อสรุปสำคัญจากคดีนี้เกี่ยวกับการขับขี่โดยประมาทและความรับผิดทางกฎหมายคืออะไร?\n",
      "Answer: ข้อสรุปสำคัญคือ แม้ว่าผู้เสียหายจะมีส่วนร่วมในความประมาท แต่ฝ่ายที่มีความประมาทหลักที่ทำให้เกิดความเสียหายจะยังคงต้องรับผิดชอบ โดยเฉพาะในกรณีการขับขี่โดยประมาท\n",
      "\n",
      "Question: ทำไมศาลฎีกาตัดสินให้แก้ไขโทษที่กำหนดโดยศาลอุทธรณ์?\n",
      "Answer: ศาลฎีกาเห็นว่าโทษที่ศาลอุทธรณ์กำหนดไม่เหมาะสมกับสภาพคดี จึงใช้ดุลพินิจเปลี่ยนแปลงโทษให้เป็นการรอลงอาญาแทนการจำคุก\n",
      "\n",
      "Question: การชดใช้ค่าสินไหมทดแทนของจำเลยมีผลต่อการตัดสินของศาลอย่างไร?\n",
      "Answer: การชดใช้ค่าสินไหมทดแทนของจำเลยแสดงให้เห็นถึงความสำนึกผิดและถูกพิจารณาเป็นปัจจัยบรรเทาโทษ ทำให้ศาลลดโทษลง\n",
      "\n",
      "Question: คดีนี้แสดงให้เห็นถึงการประยุกต์ใช้ความประมาทร่วมในกฎหมายจราจรอย่างไร?\n",
      "Answer: คดีนี้แสดงถึงการประยุกต์ใช้ความประมาทร่วม โดยยอมรับว่าผู้ตายและผู้บาดเจ็บมีส่วนร่วมในการประมาท แต่ยังคงถือว่าจำเลยเป็นผู้รับผิดหลักในการขับขี่โดยประมาท\n",
      "\n",
      "Question: ศาลนำการรอลงอาญามาปรับใช้ตามประมวลกฎหมายอาญา มาตรา 56 อย่างไร?\n",
      "Answer: การรอลงอาญาตามมาตรา 56 สะท้อนถึงการให้โอกาสจำเลยในการปรับปรุงตัวมากกว่าการลงโทษหนัก ซึ่งถือว่าเป็นประโยชน์ต่อจำเลยและสังคมมากกว่า\n",
      "\n",
      "Question: เหตุผลที่ศาลตัดสินให้จำเลยทำกิจกรรมบริการสังคมคืออะไร?\n",
      "Answer: ศาลตัดสินให้จำเลยทำกิจกรรมบริการสังคมเพื่อให้จำเลยมีส่วนร่วมในสังคมและเน้นบทบาทการแก้ไขปรับปรุงแทนการลงโทษ\n",
      "\n",
      "Question: คำพิพากษาสุดท้ายของศาลได้จัดการกับความรับผิดทั้งทางอาญาและทางแพ่งอย่างไร?\n",
      "Answer: คำพิพากษาสุดท้ายของศาลจัดการความรับผิดทางอาญาโดยลงโทษจำคุก (แต่รอลงอาญา) และจัดการความรับผิดทางแพ่งโดยสั่งให้จำเลยชดใช้ค่าสินไหมทดแทนแก่ผู้เสียหาย\n",
      "\n"
     ]
    },
    {
     "name": "stderr",
     "output_type": "stream",
     "text": [
      "/var/folders/9g/2jz8n1y96qb5t36_c2td55280000gn/T/ipykernel_47244/182920174.py:9: FutureWarning: Series.__getitem__ treating keys as positions is deprecated. In a future version, integer keys will always be treated as labels (consistent with DataFrame behavior). To access a value by position, use `ser.iloc[pos]`\n",
      "  content = row[0]  # Assuming that the question-answer content is in the first column\n"
     ]
    }
   ],
   "source": [
    "import pandas as pd\n",
    "\n",
    "def view_parquet_content(file_path):\n",
    "    # Read the Parquet file into a DataFrame\n",
    "    df = pd.read_parquet(file_path)\n",
    "    \n",
    "    # Iterate through the DataFrame to display the question and answer pairs\n",
    "    for index, row in df.iterrows():\n",
    "        content = row[0]  # Assuming that the question-answer content is in the first column\n",
    "        \n",
    "        # Split the content based on the special tokens\n",
    "        if content.startswith('<s>') and content.endswith('</s>'):\n",
    "            content = content[3:-4]  # Remove <s> and </s> tags\n",
    "            parts = content.split('[/INST]')\n",
    "            \n",
    "            if len(parts) == 2:\n",
    "                question_part = parts[0].replace('[INST]', '').strip()\n",
    "                answer_part = parts[1].strip()\n",
    "                \n",
    "                # Print the question and answer pairs\n",
    "                print(f\"Question: {question_part}\\nAnswer: {answer_part}\\n\")\n",
    "\n",
    "# Replace 'your_file_path.parquet' with the actual path to your Parquet file\n",
    "#file_path = 'your_file_path.parquet'\n",
    "view_parquet_content(file_path)\n",
    "\n",
    "print(datetime.datetime.now())"
   ]
  },
  {
   "cell_type": "code",
   "execution_count": 4,
   "metadata": {},
   "outputs": [
    {
     "name": "stdout",
     "output_type": "stream",
     "text": [
      "Question: ทำไมศาลจึงสรุปว่าโทษสำหรับการขับรถโดยประมาทที่ทำให้เกิดอันตรายสามารถใช้ได้แม้ว่าจะมีโทษเบากว่าตามพระราชบัญญัติจราจร?\n",
      "Answer: ศาลพิจารณาแล้วว่าจำเลยกระทำผิดหลายบทตามกฎหมายต่างๆ และตามหลักการในประมวลกฎหมายอาญามาตรา 90 ต้องลงโทษตามกฎหมายบทที่มีโทษหนักที่สุด ซึ่งในกรณีนี้คือโทษจำคุกสำหรับการขับรถโดยประมาท.\n",
      "\n",
      "Question: ทำไมศาลจึงพิจารณาว่าค่าปรับที่พนักงานสอบสวนเปรียบเทียบไม่ถูกต้อง?\n",
      "Answer: ศาลพิจารณาว่าพนักงานสอบสวนไม่มีอำนาจในการเปรียบเทียบปรับในกรณีนี้ เพราะการขับรถโดยประมาทที่มีโทษหนักกว่าไม่สามารถยกเว้นได้ด้วยโทษเบาจากการละเมิดจราจร.\n",
      "\n",
      "Question: ประมวลกฎหมายอาญามาตรา 90 ถูกใช้ในกรณีที่มีการกระทำความผิดหลายบทในเหตุการณ์เดียวกันอย่างไร?\n",
      "Answer: ประมวลกฎหมายอาญามาตรา 90 กำหนดว่าหากการกระทำเดียวกันเป็นความผิดหลายบท ต้องลงโทษตามบทกฎหมายที่มีโทษหนักที่สุด ในกรณีนี้คือการขับรถโดยประมาทที่ทำให้เกิดอันตราย.\n",
      "\n",
      "Question: ข้อหาของจำเลยในทั้งคดีแพ่งและคดีอาญามีอะไรบ้าง?\n",
      "Answer: จำเลยถูกฟ้องภายใต้ประมวลกฎหมายอาญามาตรา 291 และ 390 รวมถึงการละเมิดตามพระราชบัญญัติจราจรทางบกในข้อหาขับรถโดยประมาทที่ทำให้ผู้อื่นถึงแก่ความตาย ในส่วนของคดีแพ่งเป็นการฟ้องเรียกร้องค่าสินไหมทดแทนจากมารดาของผู้เสียชีวิต.\n",
      "\n",
      "Question: ศาลจัดการกับคำร้องเรื่องค่าสินไหมทดแทนจากมารดาของผู้เสียชีวิตอย่างไร?\n",
      "Answer: ศาลสั่งให้จำเลยชำระค่าสินไหมทดแทนเป็นจำนวน 85,000 บาท พร้อมดอกเบี้ย 7.5% ต่อปีนับตั้งแต่วันที่มีคำพิพากษาจนกว่าจะชำระเสร็จ.\n",
      "\n",
      "Question: เหตุผลใดที่ศาลพิจารณาให้ลดโทษของจำเลย?\n",
      "Answer: ศาลพิจารณาว่าการที่จำเลยรับสารภาพถือเป็นปัจจัยบรรเทาโทษ ทำให้ลดโทษจำคุกจาก 4 ปีเหลือ 2 ปีตามประมวลกฎหมายอาญามาตรา 78.\n",
      "\n",
      "Question: ศาลอุทธรณ์และศาลฎีกามีคำพิพากษาต่างกันอย่างไรในเรื่องโทษของจำเลย?\n",
      "Answer: ศาลอุทธรณ์ลดโทษจำคุกของจำเลยเป็น 3 ปีและต่อมาได้ลดลงเหลือ 1 ปี 6 เดือนเนื่องจากมีปัจจัยบรรเทา ศาลฎีกาได้แก้ไขคำพิพากษาเป็นจำคุก 2 ปีและลดเหลือ 1 ปี.\n",
      "\n",
      "Question: ทำไมศาลฎีกาจึงเห็นว่าคำพิพากษาในมาตรา 390 ไม่ถูกต้อง?\n",
      "Answer: ศาลฎีกาพิจารณาว่าการใช้มาตรา 390 ไม่ถูกต้อง เนื่องจากความผิดตามพระราชบัญญัติจราจรมีโทษเบากว่า แต่ความผิดฐานขับรถโดยประมาทที่มีโทษหนักกว่าสมควรถูกนำมาใช้ในการพิพากษา.\n",
      "\n",
      "Question: หลักการทางกฎหมายว่าด้วยการกระทำผิดหลายบทในเวลาเดียวกันคืออะไรและศาลได้ใช้มันอย่างไร?\n",
      "Answer: หลักการทางกฎหมายระบุว่าเมื่อการกระทำเดียวกันละเมิดกฎหมายหลายบท ศาลต้องลงโทษตามบทกฎหมายที่มีโทษหนักที่สุด ซึ่งในกรณีนี้คือความผิดตามประมวลกฎหมายอาญา.\n",
      "\n",
      "Question: ศาลจัดการกับการอุทธรณ์ของจำเลยเกี่ยวกับค่าปรับจากพนักงานสอบสวนอย่างไร?\n",
      "Answer: ศาลปฏิเสธคำอุทธรณ์ของจำเลย โดยระบุว่าค่าปรับที่พนักงานสอบสวนเปรียบเทียบไม่ถูกต้อง และโทษทางอาญาที่หนักกว่านั้นไม่สามารถถูกยกเลิกด้วยค่าปรับที่เบากว่าได้.\n",
      "\n",
      "Question: เหตุผลที่ศาลพิจารณาว่าพนักงานสอบสวนไม่มีอำนาจในการเปรียบเทียบปรับในกรณีนี้คืออะไร?\n",
      "Answer: ศาลพิจารณาว่าพนักงานสอบสวนไม่มีอำนาจเปรียบเทียบปรับเนื่องจากการกระทำของจำเลยในข้อหาขับรถโดยประมาทที่มีโทษหนักกว่าไม่สามารถถูกยกเลิกด้วยการปรับเล็กน้อยจากการละเมิดจราจรได้.\n",
      "\n",
      "Question: คำร้องเรื่องค่าสินไหมทดแทนของมารดาผู้เสียชีวิตมีบทบาทอย่างไรในคดีนี้?\n",
      "Answer: คำร้องเรื่องค่าสินไหมทดแทนของมารดาผู้เสียชีวิตเป็นส่วนหนึ่งของคดีแพ่ง โดยศาลได้พิพากษาให้จำเลยชำระเงินชดเชยพร้อมดอกเบี้ย.\n",
      "\n",
      "Question: ผลของคำพิพากษาครั้งสุดท้ายต่อจำเลยคืออะไร?\n",
      "Answer: จำเลยถูกลงโทษจำคุก 2 ปี (ลดลงเหลือ 1 ปีเนื่องจากปัจจัยบรรเทา) ใบอนุญาตขับขี่รถยนต์ถูกเพิกถอน และถูกสั่งให้ชำระค่าสินไหมทดแทนให้กับครอบครัวของผู้เสียชีวิต.\n",
      "\n"
     ]
    },
    {
     "name": "stderr",
     "output_type": "stream",
     "text": [
      "/var/folders/9g/2jz8n1y96qb5t36_c2td55280000gn/T/ipykernel_47244/182920174.py:9: FutureWarning: Series.__getitem__ treating keys as positions is deprecated. In a future version, integer keys will always be treated as labels (consistent with DataFrame behavior). To access a value by position, use `ser.iloc[pos]`\n",
      "  content = row[0]  # Assuming that the question-answer content is in the first column\n"
     ]
    }
   ],
   "source": [
    "view_parquet_content(file_path2)\n",
    "\n",
    "print(datetime.datetime.now())"
   ]
  },
  {
   "cell_type": "code",
   "execution_count": 5,
   "metadata": {},
   "outputs": [],
   "source": [
    "#show combined parquet file\n",
    "file_path3 = '/Users/ekkalukw/data-src/kdai-llm-final-20241007/final dataset/combined_legal_cases.parquet'\n",
    "\n",
    "print(datetime.datetime.now())"
   ]
  },
  {
   "cell_type": "code",
   "execution_count": 6,
   "metadata": {},
   "outputs": [
    {
     "name": "stdout",
     "output_type": "stream",
     "text": [
      "Total number of question-answer pairs: 26\n",
      "\n",
      "Question: ปัญหาข้อกฎหมายหลักที่ถูกอภิปรายในคำพิพากษาของศาลชั้นต้นคืออะไร?\n",
      "Answer: ศาลชั้นต้นพิพากษาลงโทษจำเลยฐานกระทำโดยประมาทเป็นเหตุให้ผู้อื่นถึงแก่ความตายตาม ป.อ. มาตรา 291 ลงโทษจำคุก 4 ปี และให้จำเลยชดใช้ค่าสินไหมทดแทนแก่โจทก์ร่วม\n",
      "\n",
      "Question: จำเลยอุทธรณ์ต่อศาลอุทธรณ์ด้วยเหตุผลใด?\n",
      "Answer: จำเลยโต้แย้งว่าอุบัติเหตุเกิดจากความประมาทของผู้ตายและผู้บาดเจ็บที่ขับขี่รถจักรยานยนต์โดยไม่เว้นระยะห่างที่เพียงพอ\n",
      "\n",
      "Question: ทำไมคำขอฎีกาของจำเลยถูกปฏิเสธโดยศาลฎีกา?\n",
      "Answer: ศาลฎีกาปฏิเสธคำขอฎีกาเนื่องจากจำเลยไม่ได้รับอนุญาตให้ฎีกาในปัญหาข้อเท็จจริงตาม ป.วิ.อ. มาตรา 218\n",
      "\n",
      "Question: ศาลได้นำมาตรา 291 ของประมวลกฎหมายอาญามาปรับใช้กับข้อเท็จจริงในคดีนี้อย่างไร?\n",
      "Answer: ศาลได้นำมาตรา 291 ของประมวลกฎหมายอาญามาปรับใช้เพื่อพิพากษาลงโทษจำเลยฐานกระทำโดยประมาทเป็นเหตุให้ผู้อื่นถึงแก่ความตาย ลงโทษจำคุก 4 ปี\n",
      "\n",
      "Question: เหตุผลที่ศาลตัดสินให้รอลงอาญาจำคุกคืออะไร?\n",
      "Answer: ศาลตัดสินให้รอลงอาญาเนื่องจากจำเลยได้แสดงความสำนึกผิด ชดใช้ค่าสินไหมทดแทนแก่ผู้เสียหาย และเหตุการณ์เกิดจากความประมาทไม่ใช่เจตนา ศาลเห็นว่าการบริการสังคมและการคุมประพฤติจะเป็นประโยชน์มากกว่า\n",
      "\n",
      "Question: หลักการทางกฎหมายว่าด้วยการกระทำผิดหลายบทในเวลาเดียวกันคืออะไรและศาลได้ใช้มันอย่างไร?\n",
      "Answer: หลักการทางกฎหมายระบุว่าเมื่อการกระทำเดียวกันละเมิดกฎหมายหลายบท ศาลต้องลงโทษตามบทกฎหมายที่มีโทษหนักที่สุด ซึ่งในกรณีนี้คือความผิดตามประมวลกฎหมายอาญา.\n",
      "\n",
      "Question: ศาลจัดการกับการอุทธรณ์ของจำเลยเกี่ยวกับค่าปรับจากพนักงานสอบสวนอย่างไร?\n",
      "Answer: ศาลปฏิเสธคำอุทธรณ์ของจำเลย โดยระบุว่าค่าปรับที่พนักงานสอบสวนเปรียบเทียบไม่ถูกต้อง และโทษทางอาญาที่หนักกว่านั้นไม่สามารถถูกยกเลิกด้วยค่าปรับที่เบากว่าได้.\n",
      "\n",
      "Question: เหตุผลที่ศาลพิจารณาว่าพนักงานสอบสวนไม่มีอำนาจในการเปรียบเทียบปรับในกรณีนี้คืออะไร?\n",
      "Answer: ศาลพิจารณาว่าพนักงานสอบสวนไม่มีอำนาจเปรียบเทียบปรับเนื่องจากการกระทำของจำเลยในข้อหาขับรถโดยประมาทที่มีโทษหนักกว่าไม่สามารถถูกยกเลิกด้วยการปรับเล็กน้อยจากการละเมิดจราจรได้.\n",
      "\n",
      "Question: คำร้องเรื่องค่าสินไหมทดแทนของมารดาผู้เสียชีวิตมีบทบาทอย่างไรในคดีนี้?\n",
      "Answer: คำร้องเรื่องค่าสินไหมทดแทนของมารดาผู้เสียชีวิตเป็นส่วนหนึ่งของคดีแพ่ง โดยศาลได้พิพากษาให้จำเลยชำระเงินชดเชยพร้อมดอกเบี้ย.\n",
      "\n",
      "Question: ผลของคำพิพากษาครั้งสุดท้ายต่อจำเลยคืออะไร?\n",
      "Answer: จำเลยถูกลงโทษจำคุก 2 ปี (ลดลงเหลือ 1 ปีเนื่องจากปัจจัยบรรเทา) ใบอนุญาตขับขี่รถยนต์ถูกเพิกถอน และถูกสั่งให้ชำระค่าสินไหมทดแทนให้กับครอบครัวของผู้เสียชีวิต.\n",
      "\n"
     ]
    },
    {
     "name": "stderr",
     "output_type": "stream",
     "text": [
      "/var/folders/9g/2jz8n1y96qb5t36_c2td55280000gn/T/ipykernel_47244/3363563533.py:16: FutureWarning: Series.__getitem__ treating keys as positions is deprecated. In a future version, integer keys will always be treated as labels (consistent with DataFrame behavior). To access a value by position, use `ser.iloc[pos]`\n",
      "  content = row[0]  # Assuming that the question-answer content is in the first column\n"
     ]
    }
   ],
   "source": [
    "import pandas as pd\n",
    "\n",
    "def view_parquet_content(file_path):\n",
    "    # Read the Parquet file into a DataFrame\n",
    "    df = pd.read_parquet(file_path)\n",
    "    \n",
    "    # Display the number of question-answer pairs\n",
    "    total_pairs = len(df)\n",
    "    print(f\"Total number of question-answer pairs: {total_pairs}\\n\")\n",
    "    \n",
    "    # Display the first 5 and last 5 rows\n",
    "    df_to_display = pd.concat([df.head(5), df.tail(5)])\n",
    "    \n",
    "    # Iterate through the selected rows to display the question and answer pairs\n",
    "    for index, row in df_to_display.iterrows():\n",
    "        content = row[0]  # Assuming that the question-answer content is in the first column\n",
    "        \n",
    "        # Split the content based on the special tokens\n",
    "        if content.startswith('<s>') and content.endswith('</s>'):\n",
    "            content = content[3:-4]  # Remove <s> and </s> tags\n",
    "            parts = content.split('[/INST]')\n",
    "            \n",
    "            if len(parts) == 2:\n",
    "                question_part = parts[0].replace('[INST]', '').strip()\n",
    "                answer_part = parts[1].strip()\n",
    "                \n",
    "                # Print the question and answer pairs\n",
    "                print(f\"Question: {question_part}\\nAnswer: {answer_part}\\n\")\n",
    "\n",
    "# Replace 'your_file_path.parquet' with the actual path to your Parquet file\n",
    "#file_path = 'your_file_path.parquet'\n",
    "view_parquet_content(file_path3)\n",
    "\n",
    "print(datetime.datetime.now())"
   ]
  },
  {
   "cell_type": "code",
   "execution_count": 8,
   "metadata": {},
   "outputs": [
    {
     "name": "stdout",
     "output_type": "stream",
     "text": [
      "2024-10-15 19:05:51.429868\n"
     ]
    }
   ],
   "source": [
    "#show combined parquet file\n",
    "file_path4 = '/Users/ekkalukw/data-src/kdai-llm-final-20241007/final dataset/combined_legal_cases.parquet'\n",
    "\n",
    "print(datetime.datetime.now())"
   ]
  },
  {
   "cell_type": "code",
   "execution_count": 9,
   "metadata": {},
   "outputs": [
    {
     "name": "stdout",
     "output_type": "stream",
     "text": [
      "Total number of question-answer pairs: 100\n",
      "\n",
      "Question: ปัญหาข้อกฎหมายหลักที่ถูกอภิปรายในคำพิพากษาของศาลชั้นต้นคืออะไร?\n",
      "Answer: ศาลชั้นต้นพิพากษาลงโทษจำเลยฐานกระทำโดยประมาทเป็นเหตุให้ผู้อื่นถึงแก่ความตายตาม ป.อ. มาตรา 291 ลงโทษจำคุก 4 ปี และให้จำเลยชดใช้ค่าสินไหมทดแทนแก่โจทก์ร่วม\n",
      "\n",
      "Question: จำเลยอุทธรณ์ต่อศาลอุทธรณ์ด้วยเหตุผลใด?\n",
      "Answer: จำเลยโต้แย้งว่าอุบัติเหตุเกิดจากความประมาทของผู้ตายและผู้บาดเจ็บที่ขับขี่รถจักรยานยนต์โดยไม่เว้นระยะห่างที่เพียงพอ\n",
      "\n",
      "Question: ทำไมคำขอฎีกาของจำเลยถูกปฏิเสธโดยศาลฎีกา?\n",
      "Answer: ศาลฎีกาปฏิเสธคำขอฎีกาเนื่องจากจำเลยไม่ได้รับอนุญาตให้ฎีกาในปัญหาข้อเท็จจริงตาม ป.วิ.อ. มาตรา 218\n",
      "\n",
      "Question: ศาลได้นำมาตรา 291 ของประมวลกฎหมายอาญามาปรับใช้กับข้อเท็จจริงในคดีนี้อย่างไร?\n",
      "Answer: ศาลได้นำมาตรา 291 ของประมวลกฎหมายอาญามาปรับใช้เพื่อพิพากษาลงโทษจำเลยฐานกระทำโดยประมาทเป็นเหตุให้ผู้อื่นถึงแก่ความตาย ลงโทษจำคุก 4 ปี\n",
      "\n",
      "Question: เหตุผลที่ศาลตัดสินให้รอลงอาญาจำคุกคืออะไร?\n",
      "Answer: ศาลตัดสินให้รอลงอาญาเนื่องจากจำเลยได้แสดงความสำนึกผิด ชดใช้ค่าสินไหมทดแทนแก่ผู้เสียหาย และเหตุการณ์เกิดจากความประมาทไม่ใช่เจตนา ศาลเห็นว่าการบริการสังคมและการคุมประพฤติจะเป็นประโยชน์มากกว่า\n",
      "\n",
      "Question: บทเรียนหรือหลักกฎหมายสำคัญที่ได้จากคดีนี้คืออะไร?\n",
      "Answer: คดีนี้ชี้ให้เห็นว่ารถฉุกเฉินสามารถขับผ่านสัญญาณไฟแดงได้ หากมีการลดความเร็วและใช้ความระมัดระวัง ความจริงที่ว่าการขับผ่านไฟแดงไม่ถือเป็นความประมาทหากรถอยู่ในสภาพฉุกเฉิน\n",
      "\n",
      "Question: เหตุใดศาลชั้นต้นจึงลดโทษของจำเลย?\n",
      "Answer: ศาลพบว่าจำเลยปฏิบัติตามคำสั่งในการขับรถนำผู้ป่วย และการให้ความร่วมมือในการพิจารณาคดีจึงเป็นเหตุบรรเทาโทษ\n",
      "\n",
      "Question: ทำไมศาลชั้นต้นจึงตัดสินว่าจำเลยกระทำโดยประมาท?\n",
      "Answer: ศาลชั้นต้นตัดสินว่าจำเลยกระทำโดยประมาทเพราะจำเลยไม่ลดความเร็วขณะขับรถผ่านไฟแดง ซึ่งเป็นข้อกำหนดตามพระราชบัญญัติจราจรทางบก\n",
      "\n",
      "Question: เหตุใดศาลอุทธรณ์จึงไม่เห็นด้วยกับคำตัดสินของศาลชั้นต้น?\n",
      "Answer: ศาลอุทธรณ์เห็นว่าจำเลยมีสิทธิตามกฎหมายที่จะขับผ่านสัญญาณไฟแดงเนื่องจากจำเลยขับรถฉุกเฉิน และโจทก์ไม่มีหลักฐานเพียงพอที่แสดงว่าจำเลยไม่ลดความเร็วตามสมควร\n",
      "\n",
      "Question: หลักฐานใดที่โจทก์ขาดในการฟ้องทำให้คดีถูกยกฟ้อง?\n",
      "Answer: โจทก์ขาดหลักฐานที่แสดงว่าจำเลยไม่ลดความเร็วเมื่อผ่านไฟแดง และไม่มีหลักฐานเพียงพอที่แสดงว่าจำเลยกระทำโดยประมาท\n",
      "\n",
      "2024-10-15 19:05:58.168766\n"
     ]
    },
    {
     "name": "stderr",
     "output_type": "stream",
     "text": [
      "/var/folders/9g/2jz8n1y96qb5t36_c2td55280000gn/T/ipykernel_47244/3363563533.py:16: FutureWarning: Series.__getitem__ treating keys as positions is deprecated. In a future version, integer keys will always be treated as labels (consistent with DataFrame behavior). To access a value by position, use `ser.iloc[pos]`\n",
      "  content = row[0]  # Assuming that the question-answer content is in the first column\n"
     ]
    }
   ],
   "source": [
    "# Replace 'your_file_path.parquet' with the actual path to your Parquet file\n",
    "#file_path = 'your_file_path.parquet'\n",
    "view_parquet_content(file_path4)\n",
    "\n",
    "print(datetime.datetime.now())"
   ]
  }
 ],
 "metadata": {
  "kernelspec": {
   "display_name": "kdai-llm-finalfix",
   "language": "python",
   "name": "python3"
  },
  "language_info": {
   "codemirror_mode": {
    "name": "ipython",
    "version": 3
   },
   "file_extension": ".py",
   "mimetype": "text/x-python",
   "name": "python",
   "nbconvert_exporter": "python",
   "pygments_lexer": "ipython3",
   "version": "3.12.7"
  }
 },
 "nbformat": 4,
 "nbformat_minor": 2
}
