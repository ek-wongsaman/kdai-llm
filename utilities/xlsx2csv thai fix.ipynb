{
 "cells": [
  {
   "cell_type": "code",
   "execution_count": 1,
   "metadata": {},
   "outputs": [
    {
     "name": "stdout",
     "output_type": "stream",
     "text": [
      "Fixed CSV file saved to /Users/ekkalukw/data-src/kdai-llm-final-20241007/case csv/supreme judgment th-fixed.csv\n"
     ]
    }
   ],
   "source": [
    "import pandas as pd\n",
    "\n",
    "# Specify the paths for the CSV file\n",
    "input_csv_path = '/Users/ekkalukw/data-src/kdai-llm-final-20241007/case csv/supreme judgment.csv'  # Replace with your CSV file path\n",
    "output_csv_path = '/Users/ekkalukw/data-src/kdai-llm-final-20241007/case csv/supreme judgment th-fixed.csv'  # Replace with your desired output CSV file path\n",
    "\n",
    "# Read the CSV file with the incorrect encoding\n",
    "try:\n",
    "    # Attempt to read using the default encoding\n",
    "    df = pd.read_csv(input_csv_path, encoding='ISO-8859-1')\n",
    "except UnicodeDecodeError:\n",
    "    # If default fails, read it using an encoding that may work for the Thai language\n",
    "    df = pd.read_csv(input_csv_path, encoding='cp874')\n",
    "\n",
    "# Write the CSV file with UTF-8 encoding to fix the character issues\n",
    "df.to_csv(output_csv_path, encoding='utf-8', index=False)\n",
    "\n",
    "print(f\"Fixed CSV file saved to {output_csv_path}\")"
   ]
  }
 ],
 "metadata": {
  "kernelspec": {
   "display_name": "kdai-llm-finalfix",
   "language": "python",
   "name": "python3"
  },
  "language_info": {
   "codemirror_mode": {
    "name": "ipython",
    "version": 3
   },
   "file_extension": ".py",
   "mimetype": "text/x-python",
   "name": "python",
   "nbconvert_exporter": "python",
   "pygments_lexer": "ipython3",
   "version": "3.12.7"
  }
 },
 "nbformat": 4,
 "nbformat_minor": 2
}
