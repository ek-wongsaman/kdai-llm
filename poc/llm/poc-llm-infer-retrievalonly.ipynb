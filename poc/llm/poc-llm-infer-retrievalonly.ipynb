{
 "cells": [
  {
   "cell_type": "markdown",
   "metadata": {},
   "source": [
    "this is to poc retrieval only. no document prepartion."
   ]
  },
  {
   "cell_type": "markdown",
   "metadata": {},
   "source": [
    "this is for POC purpose. it ensures that when only partial code that retrieve document is run. it can be run successfully. in Aj. code, full opensearch initialization, corpus database building, uploading, embedding, and retrieval are performed. we are going to use only retrieval part. it may need some modification.\n",
    "\n",
    "POC result: ok with some modification in vector database, and index part.\n",
    "\n",
    "this code is used in llm-infer-rag.py POC for fully POC in deployment environment.\n",
    "\n",
    "note: it run successfully. but in one execution run, it fail because of huggingface. this is likely because huggingface limitation or free account limitation, or perhaps model maintenance."
   ]
  },
  {
   "cell_type": "code",
   "execution_count": 1,
   "metadata": {},
   "outputs": [
    {
     "name": "stderr",
     "output_type": "stream",
     "text": [
      "/Volumes/SS2305_1MH01/anaconda-env/kdai-llm-final/lib/python3.12/site-packages/tqdm/auto.py:21: TqdmWarning: IProgress not found. Please update jupyter and ipywidgets. See https://ipywidgets.readthedocs.io/en/stable/user_install.html\n",
      "  from .autonotebook import tqdm as notebook_tqdm\n"
     ]
    }
   ],
   "source": [
    "from llama_index.core import SimpleDirectoryReader, VectorStoreIndex, StorageContext\n",
    "from llama_index.core.node_parser import TokenTextSplitter\n",
    "from llama_index.vector_stores.opensearch import OpensearchVectorStore, OpensearchVectorClient\n",
    "from llama_index.embeddings.huggingface import HuggingFaceEmbedding\n",
    "import torch\n",
    "import nest_asyncio\n",
    "from os import getenv\n",
    "\n",
    "#4. Generate embeddings using the BAAI/bge-m3 model\n",
    "from llama_index.embeddings.huggingface import HuggingFaceEmbedding\n",
    "\n",
    "#5.1 Set up OpenSearch connection details\n",
    "#this step is mandatory so that the embeding / vector can be stored in the opensearch.\n",
    "from os import getenv\n",
    "from llama_index.vector_stores.opensearch import (\n",
    "    OpensearchVectorStore,\n",
    "    OpensearchVectorClient,\n",
    ")\n",
    "\n",
    "from llama_index.core import VectorStoreIndex, StorageContext\n",
    "\n",
    "from llama_index.core.vector_stores.types import VectorStoreQueryMode\n",
    "\n",
    "\n",
    "#from fastapi import FastAPI\n",
    "from pydantic import BaseModel\n",
    "\n",
    "import ollama"
   ]
  },
  {
   "cell_type": "code",
   "execution_count": null,
   "metadata": {},
   "outputs": [],
   "source": [
    "#do not execute this part if testing the logic and huggingface.\n",
    "# Create a FastAPI instance\n",
    "#app = FastAPI()"
   ]
  },
  {
   "cell_type": "code",
   "execution_count": 2,
   "metadata": {},
   "outputs": [],
   "source": [
    "# Define the input data model\n",
    "class TextInput(BaseModel):\n",
    "    text: str"
   ]
  },
  {
   "cell_type": "code",
   "execution_count": 3,
   "metadata": {},
   "outputs": [],
   "source": [
    "def query_openthaigpt(question, context):\n",
    "    formatted_prompt = f'''# Few-shot examples\n",
    "Example 1:\n",
    "Context: Mr. A killed a person and claimed it was justifiable self-defense under Section 68 of the Criminal Code.\n",
    "If the facts indicate that there was a struggle for a firearm and the gun accidentally discharged.\n",
    "Question: How would the court rule? Please provide an example Supreme Court decision case number or the Red case number (หมายเลขคดีแดง)\n",
    "Answer: The court would likely determine that the defendant's claim of self-defense is not tenable. Justifiable self-defense under Section 68 requires intentional action. Given that the facts indicate a struggle for the firearm and an accidental discharge, this constitutes a negligent act resulting in death, not an intentional act. Therefore, it does not meet the criteria for justifiable self-defense under the law.\n",
    "The court would likely rule that this case falls under negligent homicide rather than justifiable self-defense,\n",
    "as the element of intent, which is crucial for the self-defense claim,\n",
    "is absent in the scenario where the firearm discharged accidentally during a struggle.\n",
    "The example Supreme Court decision is Case No. 1597/2562, Red Case No. อ632/2560.\n",
    "\n",
    "# RAG component\n",
    "Retrieved information:\n",
    "{context}\n",
    "\n",
    "# Actual question\n",
    "Question: {question}\n",
    "\n",
    "Please answer the question with Thai language using the information from the examples and the retrieved information above. Focus on troubleshooting end-user devices in FTTX projects. Provide a clear, step-by-step answer, prioritized in order of importance. Include a brief explanation for each step. If the provided information is insufficient to answer the question completely, state \"The available information is not sufficient to fully answer this question\" and suggest general troubleshooting steps.\n",
    "\n",
    "Answer:'''\n",
    "\n",
    "    #print(formatted_prompt)\n",
    "    #response = ollama.generate(model='openthaigpt:latest', prompt=formatted_prompt)\n",
    "    response = ollama.generate(model='llama3.2:latest', prompt=formatted_prompt)\n",
    "    return response['response']"
   ]
  },
  {
   "cell_type": "code",
   "execution_count": 4,
   "metadata": {},
   "outputs": [],
   "source": [
    "# Define the function to process the text\n",
    "def process_input_text(input_text: str) -> str:\n",
    "\n",
    "    # Check if CUDA is available for GPU acceleration\n",
    "    device = torch.device(\"cuda\" if torch.cuda.is_available() else \"cpu\")\n",
    "    print(f\"Using device: {device}\")\n",
    "\n",
    "    #from llama_index.embeddings.huggingface import HuggingFaceEmbedding\n",
    "    embedding_model_name = 'BAAI/bge-m3'\n",
    "    embedding_model = HuggingFaceEmbedding(model_name=embedding_model_name,max_length=512, device=device)\n",
    "\n",
    "    embeddings = embedding_model.get_text_embedding(\"box\")\n",
    "    dim = len(embeddings)\n",
    "\n",
    "    #endpoint = getenv(\"OPENSEARCH_ENDPOINT\", \"http://localhost:9200\")\n",
    "    endpoint = getenv(\"OPENSEARCH_ENDPOINT\", \"http://192.168.50.204:9200\") #host machine ip address\n",
    "    #index to demonstrate the VectorStore impl\n",
    "    idx = getenv(\"OPENSEARCH_INDEX\", \"test_pdf_index\")\n",
    "\n",
    "    #5.2 Configure OpenSearchVectorClient\n",
    "    # OpensearchVectorClient stores text in this field by default\n",
    "    text_field = \"content_text\"\n",
    "    # OpensearchVectorClient stores embeddings in this field by default\n",
    "    embedding_field = \"embedding\"\n",
    "    # OpensearchVectorClient encapsulates logic for a\n",
    "    # single opensearch index with vector search enabled with hybrid search pipeline\n",
    "    client = OpensearchVectorClient(\n",
    "        endpoint=endpoint,\n",
    "        index=idx,\n",
    "        dim=dim,\n",
    "        embedding_field=embedding_field,\n",
    "        text_field=text_field,\n",
    "        search_pipeline=\"hybrid-search-pipeline\",\n",
    "    )\n",
    "\n",
    "    # initialize vector store\n",
    "    vector_store = OpensearchVectorStore(client)\n",
    "\n",
    "    storage_context = StorageContext.from_defaults(vector_store=vector_store)\n",
    "\n",
    "    #index = VectorStoreIndex(\n",
    "    #    storage_context=storage_context, embed_model=embedding_model\n",
    "    #)\n",
    "\n",
    "    # No need for token_nodes or any other objects since you're using OpenSearch\n",
    "    #index_struct = None  # If you have an existing index structure, load it here\n",
    "    #index = VectorStoreIndex.from_vector_store(\n",
    "    #    storage_context=storage_context,\n",
    "    #    embed_model=embedding_model,\n",
    "    #    index_struct=index_struct,  # Can be None if you are relying on vector store fully\n",
    "    #)\n",
    "\n",
    "    # Initialize the VectorStoreIndex with the vector store\n",
    "    index = VectorStoreIndex.from_vector_store(\n",
    "        vector_store=vector_store,  # Pass the vector store you created earlier\n",
    "        storage_context=storage_context,\n",
    "        embed_model=embedding_model\n",
    "    )\n",
    "\n",
    "    retriever = index.as_retriever(similarity_top_k=3,vector_store_query_mode=VectorStoreQueryMode.HYBRID)\n",
    "\n",
    "    question = input_text\n",
    "\n",
    "    prompt = retriever.retrieve(question)\n",
    "\n",
    "    #answer = answer_question(question)\n",
    "    print(question)\n",
    "    print(prompt[0])\n",
    "    answer = query_openthaigpt(question, prompt[0])\n",
    "    print(\"answer:\",answer)\n",
    "\n",
    "    return answer"
   ]
  },
  {
   "cell_type": "code",
   "execution_count": 5,
   "metadata": {},
   "outputs": [
    {
     "name": "stdout",
     "output_type": "stream",
     "text": [
      "Using device: cpu\n",
      "กระทำการโดยประมาทเป็นเหตุให้ถึงแก่ความตาย ป.อ.291 ไม่ได้บรรยายฟ้องถึงพฤติการณ์ ศาลจะพิพากษาลงโทษจำเลยได้หรือไม่\n",
      "Node ID: 578b2dd8-d2fb-4642-8668-aa86b57ba3aa\n",
      "Text: ศาล\u0000ทธร\u0000ภาค  1 \u0000 ลงโทษตาม\u0000อเ\u0000จจ\u0000ง\u0000ไ\u0000ความตามทาง\u0000จารณาไ\u0000\n",
      "เพราะการกระ\u0000โดยเจตนาและ การกระ\u0000โดยประมาทไ\u0000ใ\u0000\u0000อแตก\u0000างในสาระ\u0000\u0000ญ\n",
      "และไ\u0000\u0000อเ\u0000นเ\u0000องเ\u0000น\u0000ขอห\u0000อ\n",
      "เ\u0000นเ\u0000อง\u0000โจท\u0000ไ\u0000ประสง\u0000ใ\u0000ลงโทษตามประมวลกฎหมาย\u0000\u0000\u0000จารณาความอาญา มาตรา  192\n",
      "วรรคสองและวรรคสาม  \u0000ศาล\u0000ทธร\u0000ภาค  1 \u0000พากษาลงโทษ\u0000เลย\u0000  3 ฐาน\n",
      "ประมาทเ\u0000นเห\u0000ใ\u0000\u0000\u0000น\u0000งแ\u0000ความตายตามประมวลกฎหมายอาญา  มาตรา  291 \u0000งชอบ แ\u0000ว\n",
      "\u0000\u0000ญหา...\n",
      "Score:  1.000\n",
      "\n",
      "answer: การวิเคราะห์ข้อมูลที่ได้รับ:\n",
      "\n",
      "1. ข้อความตัวอย่างที่ 1 บ่งชี้ว่าในกรณีที่มีการต่อสู้เพื่อกระสุนปืนและกระสุนปืนไกลลอยไปกระแทกผู้คน ส่วนใหญ่จะพิจารณาว่าเป็นเหตุผลสำหรับการประณามตามกฎหมาย ไม่ใช่การทำร้ายทางใจ\n",
      "2. ข้อความที่ได้รับจาก RAG บ่งชี้ว่าในกรณีที่มีการกระทำโดยประมาททำให้เกิดการเสียชีวิต ส่วนใหญ่จะพิจารณาในฐานะการประณามตามประมวลกฎหมายอาญา มาตรา 291\n",
      "3. ข้อความตัวอย่างที่ 1 ยังระบุว่าในกรณีที่มีการต่อสู้เพื่อกระสุนปืนและกระสุนปืนไกลลอยไปกระแทกผู้คน ส่วนใหญ่จะพิจารณาว่าเป็นการประณามตามประมวลกฎหมายอาญา มาตรา 291 แทนการประณามตามประมวลกฎหมายอาญา มาตรา 192\n",
      "\n",
      "คำตอบ:\n",
      "\n",
      "คำถามคือ \"ว่ากระทำการโดยประมาทเป็นเหตุให้ถึงแก่ความตาย ป.อ. 291 จะได้รับการพิพากษาลงโทษจำเลยหรือไม่\"\n",
      "\n",
      "ข้อสรุป: ในกรณีที่มีการกระทำโดยประมาททำให้เกิดการเสียชีวิต ส่วนใหญ่จะพิจารณาในฐานะการประณามตามประมวลกฎหมายอาญา มาตรา 291 แทนการประณามตามประมวลกฎหมายอาญา มาตรา 192 ดังนั้น กระทำการโดยประมาทเป็นเหตุให้ถึงแก่ความตาย ป.อ. 291 จะได้รับการพิพากษาลงโทษจำเลย\n",
      "\n",
      "คำแนะนำเพิ่มเติม: หากมีข้อมูลเพิ่มเติมเกี่ยวกับกรณีนี้ เช่น การต่อสู้เพื่อกระสุนปืนหรือการกระทำโดยเจตนา ก็อาจจะช่วยให้สามารถพิจารณาในทางที่เข้มงวดกว่า\n",
      "\n",
      "ข้อควรระวัง: เนื่องจากข้อมูลที่ได้รับไม่ครอบคลุมหลายด้านในการพิจารณาคดี จึงควรตรวจสอบข้อมูลเพิ่มเติมจากแหล่งอื่น ๆ เพื่อให้ได้ข้อมูลที่ถูกต้องและเป็นปัจจุบัน\n"
     ]
    }
   ],
   "source": [
    "#processed_text = process_input_text(input_data.text)\n",
    "input_text = 'กระทำการโดยประมาทเป็นเหตุให้ถึงแก่ความตาย ป.อ.291 ไม่ได้บรรยายฟ้องถึงพฤติการณ์ ศาลจะพิพากษาลงโทษจำเลยได้หรือไม่'\n",
    "processed_text = process_input_text(input_text)"
   ]
  },
  {
   "cell_type": "code",
   "execution_count": 6,
   "metadata": {},
   "outputs": [
    {
     "name": "stdout",
     "output_type": "stream",
     "text": [
      "การวิเคราะห์ข้อมูลที่ได้รับ:\n",
      "\n",
      "1. ข้อความตัวอย่างที่ 1 บ่งชี้ว่าในกรณีที่มีการต่อสู้เพื่อกระสุนปืนและกระสุนปืนไกลลอยไปกระแทกผู้คน ส่วนใหญ่จะพิจารณาว่าเป็นเหตุผลสำหรับการประณามตามกฎหมาย ไม่ใช่การทำร้ายทางใจ\n",
      "2. ข้อความที่ได้รับจาก RAG บ่งชี้ว่าในกรณีที่มีการกระทำโดยประมาททำให้เกิดการเสียชีวิต ส่วนใหญ่จะพิจารณาในฐานะการประณามตามประมวลกฎหมายอาญา มาตรา 291\n",
      "3. ข้อความตัวอย่างที่ 1 ยังระบุว่าในกรณีที่มีการต่อสู้เพื่อกระสุนปืนและกระสุนปืนไกลลอยไปกระแทกผู้คน ส่วนใหญ่จะพิจารณาว่าเป็นการประณามตามประมวลกฎหมายอาญา มาตรา 291 แทนการประณามตามประมวลกฎหมายอาญา มาตรา 192\n",
      "\n",
      "คำตอบ:\n",
      "\n",
      "คำถามคือ \"ว่ากระทำการโดยประมาทเป็นเหตุให้ถึงแก่ความตาย ป.อ. 291 จะได้รับการพิพากษาลงโทษจำเลยหรือไม่\"\n",
      "\n",
      "ข้อสรุป: ในกรณีที่มีการกระทำโดยประมาททำให้เกิดการเสียชีวิต ส่วนใหญ่จะพิจารณาในฐานะการประณามตามประมวลกฎหมายอาญา มาตรา 291 แทนการประณามตามประมวลกฎหมายอาญา มาตรา 192 ดังนั้น กระทำการโดยประมาทเป็นเหตุให้ถึงแก่ความตาย ป.อ. 291 จะได้รับการพิพากษาลงโทษจำเลย\n",
      "\n",
      "คำแนะนำเพิ่มเติม: หากมีข้อมูลเพิ่มเติมเกี่ยวกับกรณีนี้ เช่น การต่อสู้เพื่อกระสุนปืนหรือการกระทำโดยเจตนา ก็อาจจะช่วยให้สามารถพิจารณาในทางที่เข้มงวดกว่า\n",
      "\n",
      "ข้อควรระวัง: เนื่องจากข้อมูลที่ได้รับไม่ครอบคลุมหลายด้านในการพิจารณาคดี จึงควรตรวจสอบข้อมูลเพิ่มเติมจากแหล่งอื่น ๆ เพื่อให้ได้ข้อมูลที่ถูกต้องและเป็นปัจจุบัน\n"
     ]
    }
   ],
   "source": [
    "print(processed_text)"
   ]
  },
  {
   "cell_type": "code",
   "execution_count": 7,
   "metadata": {},
   "outputs": [
    {
     "name": "stdout",
     "output_type": "stream",
     "text": [
      "Using device: cpu\n",
      "กระทำการโดยประมาทเป็นเหตุให้ถึงแก่ความตาย ป.อ.291 ไม่ได้บรรยายฟ้องถึงพฤติการณ์ ศาลจะพิพากษาลงโทษจำเลยได้หรือไม่\n",
      "Node ID: 578b2dd8-d2fb-4642-8668-aa86b57ba3aa\n",
      "Text: ศาล\u0000ทธร\u0000ภาค  1 \u0000 ลงโทษตาม\u0000อเ\u0000จจ\u0000ง\u0000ไ\u0000ความตามทาง\u0000จารณาไ\u0000\n",
      "เพราะการกระ\u0000โดยเจตนาและ การกระ\u0000โดยประมาทไ\u0000ใ\u0000\u0000อแตก\u0000างในสาระ\u0000\u0000ญ\n",
      "และไ\u0000\u0000อเ\u0000นเ\u0000องเ\u0000น\u0000ขอห\u0000อ\n",
      "เ\u0000นเ\u0000อง\u0000โจท\u0000ไ\u0000ประสง\u0000ใ\u0000ลงโทษตามประมวลกฎหมาย\u0000\u0000\u0000จารณาความอาญา มาตรา  192\n",
      "วรรคสองและวรรคสาม  \u0000ศาล\u0000ทธร\u0000ภาค  1 \u0000พากษาลงโทษ\u0000เลย\u0000  3 ฐาน\n",
      "ประมาทเ\u0000นเห\u0000ใ\u0000\u0000\u0000น\u0000งแ\u0000ความตายตามประมวลกฎหมายอาญา  มาตรา  291 \u0000งชอบ แ\u0000ว\n",
      "\u0000\u0000ญหา...\n",
      "Score:  1.000\n",
      "\n",
      "answer: การประเมินสถานการณ์ของคดีละต้า\n",
      "\n",
      "1. การตรวจสอบข้อเท็จจริง: ศาลจะต้องตรวจสอบข้อเท็จจริงของการเหตุการณ์ที่เกิดขึ้น รวมถึงการกระทำของผู้จำเลยและผลที่ตามมา\n",
      "2. การวิเคราะห์ความสัมพันธ์กับมาตรา 291 ของประมวลกฎหมายอาญา: ศาลจะต้องตรวจสอบว่าการกระทำของผู้จำเลยมีส่วนเกี่ยวข้องกับการเสียชีวิตหรือไม่ และมีให้การสนับสนุนหรือไม่\n",
      "3. การพิจารณาตามมาตรา 192 ของประมวลกฎหมายอาญา: ศาลจะต้องพิจารณาว่าการกระทำของผู้จำเลยเป็นการกระทำโดยเจตนาหรือจากการประมาท และมีส่วนเกี่ยวข้องกับการเสียชีวิตหรือไม่\n",
      "4. การตัดสินใจ: ศาลจะพิพากษาลงโทษตามมาตรา 192 ของประมวลกฎหมายอาญา โดยทั่วไปศาลจะลงโทษจำเลยเป็นเวลาหลายปี\n",
      "\n",
      "คำแนะนำในการแก้ไขปัญหา:\n",
      "\n",
      "* ศาลจะต้องตรวจสอบข้อเท็จจริงของการเหตุการณ์ที่เกิดขึ้นอย่างรอบคอบ\n",
      "* ศาลควรพิจารณาการวิเคราะห์ความสัมพันธ์กับมาตรา 291 ของประมวลกฎหมายอาญาและมาตรา 192 ของประมวลกฎหมายอาญา\n",
      "* หากศาลไม่พบหลักฐานที่ชัดเจนว่าการกระทำของผู้จำเลยเป็นการกระทำโดยเจตนา ศาลอาจพิจารณาการลงโทษตามมาตรา 192 ของประมวลกฎหมายอาญา\n",
      "\n",
      "หมายเหตุ: การตอบคำถามนี้ขึ้นอยู่กับข้อมูลที่ให้ไว้ และไม่สามารถตอบได้อย่างสมบูรณ์แบบ เนื่องจากขาดข้อมูลเพิ่มเติมเกี่ยวกับการกระทำของผู้จำเลยและการเสียชีวิต\n"
     ]
    }
   ],
   "source": [
    "#processed_text = process_input_text(input_data.text)\n",
    "input_text = 'กระทำการโดยประมาทเป็นเหตุให้ถึงแก่ความตาย ป.อ.291 ไม่ได้บรรยายฟ้องถึงพฤติการณ์ ศาลจะพิพากษาลงโทษจำเลยได้หรือไม่'\n",
    "processed_text = process_input_text(input_text)"
   ]
  }
 ],
 "metadata": {
  "kernelspec": {
   "display_name": "Python 3",
   "language": "python",
   "name": "python3"
  },
  "language_info": {
   "codemirror_mode": {
    "name": "ipython",
    "version": 3
   },
   "file_extension": ".py",
   "mimetype": "text/x-python",
   "name": "python",
   "nbconvert_exporter": "python",
   "pygments_lexer": "ipython3",
   "version": "3.12.7"
  }
 },
 "nbformat": 4,
 "nbformat_minor": 2
}
