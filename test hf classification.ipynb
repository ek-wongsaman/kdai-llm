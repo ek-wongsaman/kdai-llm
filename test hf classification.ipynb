{
 "cells": [
  {
   "cell_type": "code",
   "execution_count": null,
   "metadata": {},
   "outputs": [],
   "source": [
    "#this is for colab only.\n",
    "!pip install transformers\n",
    "!pip install datasets\n",
    "!pip install accelerate"
   ]
  },
  {
   "cell_type": "code",
   "execution_count": null,
   "metadata": {},
   "outputs": [],
   "source": [
    "#from transformers import AutoTokenizer"
   ]
  },
  {
   "cell_type": "code",
   "execution_count": null,
   "metadata": {},
   "outputs": [],
   "source": [
    "#this is for colab only"
   ]
  },
  {
   "cell_type": "code",
   "execution_count": 4,
   "metadata": {},
   "outputs": [
    {
     "name": "stdout",
     "output_type": "stream",
     "text": [
      "[{'label': 'banana', 'score': 0.9966269731521606}, {'label': 'orange', 'score': 0.0003542703343555331}, {'label': 'lemon', 'score': 0.00015672353038098663}, {'label': 'jackfruit, jak, jack', 'score': 0.00012366793816909194}, {'label': 'Granny Smith', 'score': 6.73821778036654e-05}]\n"
     ]
    }
   ],
   "source": [
    "from transformers import pipeline\n",
    "\n",
    "# Load the image classification pipeline\n",
    "classifier = pipeline(\"image-classification\", model=\"microsoft/resnet-50\")\n",
    "\n",
    "# Classify an image\n",
    "#this path to googledrive storeing the image to classify\n",
    "#result = classifier(\"path/to/image.jpg\")\n",
    "result = classifier(\"C:\\\\Users\\\\ekkaluk.wongsaman\\\\Downloads\\\\banana.jpg\")\n",
    "\n",
    "# Print the predicted label and score\n",
    "print(result)"
   ]
  }
 ],
 "metadata": {
  "kernelspec": {
   "display_name": "Python 3",
   "language": "python",
   "name": "python3"
  },
  "language_info": {
   "codemirror_mode": {
    "name": "ipython",
    "version": 3
   },
   "file_extension": ".py",
   "mimetype": "text/x-python",
   "name": "python",
   "nbconvert_exporter": "python",
   "pygments_lexer": "ipython3",
   "version": "3.12.4"
  }
 },
 "nbformat": 4,
 "nbformat_minor": 2
}
